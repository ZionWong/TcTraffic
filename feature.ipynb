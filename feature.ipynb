{
 "cells": [
  {
   "cell_type": "code",
   "execution_count": 1,
   "metadata": {
    "collapsed": true,
    "deletable": true,
    "editable": true
   },
   "outputs": [],
   "source": [
    "import numpy as np\n",
    "import pandas as pd\n",
    "import matplotlib.pyplot as plt\n",
    "import seaborn as sns\n",
    "import lightgbm as lgb\n",
    "from sklearn.preprocessing import *\n",
    "import datetime\n",
    "import gc\n",
    "from numpy import inf\n",
    "from tqdm import tqdm"
   ]
  },
  {
   "cell_type": "code",
   "execution_count": 2,
   "metadata": {
    "collapsed": false,
    "deletable": true,
    "editable": true
   },
   "outputs": [],
   "source": [
    "train_df = pd.read_csv('./data/transformed/train_data.csv',parse_dates=['date','time_start'],dtype={'link_ID':str})\n",
    "link_top = pd.read_csv('./data/transformed/link_top.csv',dtype={'link_ID':str})\n",
    "link_info = pd.read_csv('./data/transformed/link_info.csv',dtype={'link_ID':str})"
   ]
  },
  {
   "cell_type": "code",
   "execution_count": 3,
   "metadata": {
    "collapsed": true,
    "deletable": true,
    "editable": true
   },
   "outputs": [],
   "source": [
    "train_df.sort_values(['link_ID','time_start'],inplace=True)"
   ]
  },
  {
   "cell_type": "code",
   "execution_count": 4,
   "metadata": {
    "collapsed": true,
    "deletable": true,
    "editable": true
   },
   "outputs": [],
   "source": [
    "grp = train_df.groupby(['link_ID','date','time_start_hour'])"
   ]
  },
  {
   "cell_type": "code",
   "execution_count": 5,
   "metadata": {
    "collapsed": true,
    "deletable": true,
    "editable": true
   },
   "outputs": [],
   "source": [
    "##增加前一小时的统计值\n",
    "def last_hour_stat(grp,prefix):\n",
    "    x = grp['travel_time'].agg(['mean','max','min','median']).reset_index()\n",
    "    c = grp['travel_time'].quantile(0.25).reset_index()\n",
    "    c.rename(columns={'travel_time':'quater'},inplace=True)\n",
    "    e = grp['travel_time'].quantile(0.75).reset_index()\n",
    "    e.rename(columns={'travel_time':'quater3'},inplace=True)\n",
    "    f = (grp['travel_time'].last()-grp['travel_time'].first()).reset_index()\n",
    "    f.rename(columns={'travel_time':'increment'},inplace=True)\n",
    "    x = pd.merge(x,c,how='left',on=['link_ID','date','time_start_hour'])\n",
    "    x = pd.merge(x,e,how='left',on=['link_ID','date','time_start_hour'])\n",
    "    x = pd.merge(x,f,how='left',on=['link_ID','date','time_start_hour'])\n",
    "    #x = pd.merge(x,g,how='left',on=['link_ID','date','time_start_hour'])\n",
    "    x['time_start_hour']+=1\n",
    "    index = x[x.time_start_hour==24].index\n",
    "    x.loc[index,'time_start_hour'] = 0\n",
    "    x.loc[index,'date'] += pd.Timedelta('1 days')\n",
    "    col = x.columns.tolist()\n",
    "    for i in range(len(col)):\n",
    "        if col[i] not in ['link_ID','date','time_start_hour']:\n",
    "            col[i] = col[i]+'_{0}'.format(prefix)\n",
    "    x.columns = col\n",
    "    return x"
   ]
  },
  {
   "cell_type": "code",
   "execution_count": 6,
   "metadata": {
    "collapsed": true,
    "deletable": true,
    "editable": true
   },
   "outputs": [],
   "source": [
    "def hist_time_stat(data,groupby_key=['time_start_hour','time_start_min'],time_window=7):\n",
    "    key = ['link_ID','month']\n",
    "    key.extend(groupby_key)\n",
    "    grp = data.groupby(key).tail(time_window).groupby(key)\n",
    "    x = grp['travel_time'].agg(['mean','max','min','median']).reset_index()\n",
    "    c = grp['travel_time'].quantile(0.25).reset_index()\n",
    "    c.rename(columns={'travel_time':'quater'},inplace=True)\n",
    "    e = grp['travel_time'].quantile(0.75).reset_index()\n",
    "    e.rename(columns={'travel_time':'quater3'},inplace=True)\n",
    "    f = (grp['travel_time'].last()-grp['travel_time'].first()).reset_index()\n",
    "    f.rename(columns={'travel_time':'increment'},inplace=True)\n",
    "    x = pd.merge(x,c,how='left',on=key)\n",
    "    x = pd.merge(x,e,how='left',on=key)\n",
    "    x = pd.merge(x,f,how='left',on=key)\n",
    "    x['month'] += 1\n",
    "    col = x.columns.tolist()\n",
    "    if(len(key)==4):\n",
    "        prefix = 'min'\n",
    "    else:\n",
    "        prefix = 'quater'\n",
    "    for i in range(len(col)):\n",
    "        if col[i] not in key:\n",
    "            col[i] = col[i]+'_'+prefix+'_{0}'.format(time_window)\n",
    "    x.columns = col\n",
    "    return x"
   ]
  },
  {
   "cell_type": "code",
   "execution_count": 7,
   "metadata": {
    "collapsed": false,
    "deletable": true,
    "editable": true
   },
   "outputs": [
    {
     "name": "stderr",
     "output_type": "stream",
     "text": [
      "100%|██████████| 6/6 [11:02<00:00, 110.56s/it]\n"
     ]
    }
   ],
   "source": [
    "bar = tqdm([3,7,12,16,23,None])\n",
    "for i in bar:\n",
    "    if i is not None:\n",
    "        slice_ = np.arange((-1)*i,0).tolist()\n",
    "        x = last_hour_stat(grp['travel_time'].nth(slice_).reset_index().groupby(['link_ID','date','time_start_hour']),i)\n",
    "        train_df = pd.merge(train_df,x,how='left',on=['link_ID','date','time_start_hour'])\n",
    "    else:\n",
    "        x = last_hour_stat(grp,0)\n",
    "        train_df = pd.merge(train_df,x,how='left',on=['link_ID','date','time_start_hour'])"
   ]
  },
  {
   "cell_type": "code",
   "execution_count": 8,
   "metadata": {
    "collapsed": true,
    "deletable": true,
    "editable": true
   },
   "outputs": [],
   "source": [
    "train_df = train_df[(train_df.time_start_hour!=6)&(train_df.time_start_hour!=13)&(train_df.time_start_hour!=16)]"
   ]
  },
  {
   "cell_type": "code",
   "execution_count": 9,
   "metadata": {
    "collapsed": true,
    "deletable": true,
    "editable": true,
    "scrolled": true
   },
   "outputs": [],
   "source": [
    "train_df = pd.merge(train_df,link_info,how='left',on=['link_ID'])"
   ]
  },
  {
   "cell_type": "code",
   "execution_count": 10,
   "metadata": {
    "collapsed": true,
    "deletable": true,
    "editable": true
   },
   "outputs": [],
   "source": [
    "train_df['length_rank'] = train_df['length'].rank(method='max',ascending=False).astype('int32')\n",
    "train_df['width_rank'] = train_df['width'].rank(method='max',ascending=False).astype('int32')\n",
    "train_df['length*width'] = train_df['width']*train_df['length'].astype('int16')\n",
    "train_df['length/width'] = train_df['width']/train_df['length']"
   ]
  },
  {
   "cell_type": "code",
   "execution_count": 11,
   "metadata": {
    "collapsed": true,
    "deletable": true,
    "editable": true,
    "scrolled": true
   },
   "outputs": [],
   "source": [
    "train_df = pd.merge(train_df,link_top.loc[:,['link_ID','in_link_num','out_link_num']],how='left',on=['link_ID'])\n",
    "train_df['in*out'] = train_df['in_link_num']*train_df['out_link_num']\n",
    "train_df['out-in'] = train_df['out_link_num']-train_df['in_link_num']\n",
    "train_df['out-in/length'] = (train_df['out_link_num']-train_df['in_link_num'])/train_df['length']\n",
    "train_df['out-in/length*width']=(train_df['out_link_num']-train_df['in_link_num'])/train_df['length/width']\n",
    "train_df['out/in'] = train_df['out_link_num']/train_df['in_link_num']\n",
    "train_df['out/in'] = train_df['out/in'].replace({inf:0})"
   ]
  },
  {
   "cell_type": "code",
   "execution_count": 12,
   "metadata": {
    "collapsed": false,
    "deletable": true,
    "editable": true
   },
   "outputs": [
    {
     "name": "stderr",
     "output_type": "stream",
     "text": [
      "100%|██████████| 5/5 [07:35<00:00, 91.52s/it]\n"
     ]
    }
   ],
   "source": [
    "window_list = tqdm([3,7,12,20,27])\n",
    "for t in window_list:\n",
    "    min_stat = hist_time_stat(train_df,time_window=t)\n",
    "    quater_stat = hist_time_stat(train_df,groupby_key=['quarter_trans'],time_window=t)\n",
    "    train_df = pd.merge(train_df,min_stat,how='left',on = ['link_ID','month','time_start_hour','time_start_min'])\n",
    "    train_df = pd.merge(train_df,quater_stat,how='left',on = ['link_ID','month','quarter_trans'])"
   ]
  },
  {
   "cell_type": "code",
   "execution_count": 13,
   "metadata": {
    "collapsed": true,
    "deletable": true,
    "editable": true,
    "scrolled": true
   },
   "outputs": [],
   "source": [
    "train_df.to_csv('./data/feature/train.csv',index=False)"
   ]
  }
 ],
 "metadata": {
  "kernelspec": {
   "display_name": "Python 2",
   "language": "python",
   "name": "python2"
  },
  "language_info": {
   "codemirror_mode": {
    "name": "ipython",
    "version": 2
   },
   "file_extension": ".py",
   "mimetype": "text/x-python",
   "name": "python",
   "nbconvert_exporter": "python",
   "pygments_lexer": "ipython2",
   "version": "2.7.6"
  }
 },
 "nbformat": 4,
 "nbformat_minor": 2
}

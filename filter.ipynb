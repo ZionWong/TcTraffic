{
 "cells": [
  {
   "cell_type": "code",
   "execution_count": 4,
   "metadata": {
    "collapsed": true,
    "scrolled": true
   },
   "outputs": [],
   "source": [
    "import lightgbm as lgb\n",
    "import pandas as pd\n",
    "import numpy as np\n",
    "from sklearn.preprocessing import *\n",
    "import matplotlib.pyplot as plt\n",
    "from datetime import datetime\n",
    "import gc\n",
    "import xgboost as xgb"
   ]
  },
  {
   "cell_type": "code",
   "execution_count": 2,
   "metadata": {
    "collapsed": true
   },
   "outputs": [],
   "source": [
    "train_df = pd.read_csv('./data/feature/train.csv',parse_dates=['date','time_start'],dtype={'link_ID':str})\n",
    "train_df = train_df.sort_values(by=['link_ID','month','day','time_start_hour'])"
   ]
  },
  {
   "cell_type": "code",
   "execution_count": 3,
   "metadata": {
    "collapsed": true
   },
   "outputs": [],
   "source": [
    "grp = train_df.groupby(['link_ID','month','day','time_start_hour'])"
   ]
  },
  {
   "cell_type": "code",
   "execution_count": null,
   "metadata": {
    "collapsed": true,
    "scrolled": true
   },
   "outputs": [],
   "source": [
    "k = list()\n",
    "for i,g in grp:\n",
    "    m = g['travel_time'].mean()\n",
    "    s = g['travel_time'].std()\n",
    "    k.append(g['travel_time'].clip_upper(m+2.5*s))"
   ]
  },
  {
   "cell_type": "code",
   "execution_count": 5,
   "metadata": {},
   "outputs": [
    {
     "data": {
      "text/plain": [
       "15.440440186781608"
      ]
     },
     "execution_count": 5,
     "metadata": {},
     "output_type": "execute_result"
    }
   ],
   "source": [
    "train_df['travel_time'].mean()"
   ]
  },
  {
   "cell_type": "code",
   "execution_count": 6,
   "metadata": {
    "collapsed": true
   },
   "outputs": [],
   "source": [
    "v = pd.concat(k)"
   ]
  },
  {
   "cell_type": "code",
   "execution_count": 7,
   "metadata": {
    "collapsed": true
   },
   "outputs": [],
   "source": [
    "train_df['travel_time'] = v"
   ]
  },
  {
   "cell_type": "code",
   "execution_count": 9,
   "metadata": {
    "collapsed": true
   },
   "outputs": [],
   "source": [
    "train_df.to_csv('./data/feature/train.csv',index=False)"
   ]
  },
  {
   "cell_type": "code",
   "execution_count": null,
   "metadata": {
    "collapsed": true
   },
   "outputs": [],
   "source": [
    "train_df = train_df[train_df.date>=pd.to_datetime('20160302',format='%Y%m%d')]\n",
    "train_df.fillna(method='ffill',inplace=True)\n",
    "val_data = train_df[(train_df.time_start_hour==8)&(train_df.month==5)]\n",
    "val_index = val_data.index\n",
    "test_data = train_df[(train_df.month==6)&(train_df.time_start_hour==8)]\n",
    "test_index = test_data.index\n",
    "rm_index = val_index.append(test_index)\n",
    "rm_index = train_df.index.isin(rm_index)\n",
    "train_data = train_df[~rm_index]\n",
    "train_data = train_data[train_df.time_start<pd.Timestamp('2016-07-01-00')]\n",
    "test_id = test_data.link_ID.values\n",
    "test_time = test_data.time_start.values"
   ]
  },
  {
   "cell_type": "code",
   "execution_count": null,
   "metadata": {
    "collapsed": true
   },
   "outputs": [],
   "source": [
    "del train_df\n",
    "gc.collect()"
   ]
  },
  {
   "cell_type": "code",
   "execution_count": null,
   "metadata": {
    "collapsed": true
   },
   "outputs": [],
   "source": [
    "col_list = train_data.drop(['link_ID','date','time_start','travel_time'],axis=1).columns.tolist()\n",
    "train_y = train_data.travel_time.values\n",
    "val_y = val_data.travel_time.values\n",
    "train_data = train_data.drop(['link_ID','date','time_start','travel_time'],axis=1).values\n",
    "val_data = val_data.drop(['link_ID','date','time_start','travel_time'],axis=1).values\n",
    "dtest = test_data.drop(['link_ID','date','time_start','travel_time'],axis=1).values"
   ]
  },
  {
   "cell_type": "code",
   "execution_count": null,
   "metadata": {
    "collapsed": true
   },
   "outputs": [],
   "source": [
    "dtrain = lgb.Dataset(train_data,train_y,feature_name=col_list,categorical_feature=['link_ID','class'])\n",
    "dval = lgb.Dataset(val_data,val_y,feature_name=col_list,categorical_feature=['link_ID','class'])\n",
    "dtrain_all = lgb.Dataset(np.vstack([train_data,val_data]),np.hstack([train_y,val_y]),feature_name=col_list,categorical_feature=['link_ID','class'])"
   ]
  },
  {
   "cell_type": "code",
   "execution_count": null,
   "metadata": {
    "collapsed": true
   },
   "outputs": [],
   "source": [
    "def mape_eval(pred,dtrain):\n",
    "    label = dtrain.get_label()\n",
    "    error = (np.abs(pred-label)/label).mean()\n",
    "    return 'mape',error,False"
   ]
  },
  {
   "cell_type": "code",
   "execution_count": null,
   "metadata": {
    "collapsed": true,
    "scrolled": true
   },
   "outputs": [],
   "source": [
    "param_gbdt = {'num_leaves':75, 'num_trees':1200, 'objective':'regression_l1','learning_rate':0.005,'num_threads':-1,\n",
    "        'feature_fraction':0.75,'bagging_fraction':0.75,'bagging_freq':1,'max_bin':20,'gaussian_eta':0.7,\n",
    "        'lambda_l1':10,'boosting':'gbdt','device':'cpu'}\n",
    "#gbdt = lgb.train(param_gbdt, dtrain, feval = mape_eval,valid_sets=[dval],verbose_eval=True,num_boost_round=2500,early_stopping_rounds=20)"
   ]
  }
 ],
 "metadata": {
  "kernelspec": {
   "display_name": "Python 2",
   "language": "python",
   "name": "python2"
  },
  "language_info": {
   "codemirror_mode": {
    "name": "ipython",
    "version": 2
   },
   "file_extension": ".py",
   "mimetype": "text/x-python",
   "name": "python",
   "nbconvert_exporter": "python",
   "pygments_lexer": "ipython2",
   "version": "2.7.12"
  }
 },
 "nbformat": 4,
 "nbformat_minor": 2
}

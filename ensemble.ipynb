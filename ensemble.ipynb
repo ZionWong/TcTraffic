{
 "cells": [
  {
   "cell_type": "code",
   "execution_count": 1,
   "metadata": {
    "collapsed": true,
    "deletable": true,
    "editable": true
   },
   "outputs": [],
   "source": [
    "import pandas as pd\n",
    "import numpy as np"
   ]
  },
  {
   "cell_type": "code",
   "execution_count": 2,
   "metadata": {
    "collapsed": true,
    "deletable": true,
    "editable": true
   },
   "outputs": [],
   "source": [
    "t1 = pd.read_csv('./submission/gy_cmp_testing_seg1_0905.txt',sep='#')\n",
    "t1['link_ID'] = t1['link_ID'].astype('str')"
   ]
  },
  {
   "cell_type": "code",
   "execution_count": 3,
   "metadata": {
    "collapsed": false,
    "deletable": true,
    "editable": true,
    "scrolled": true
   },
   "outputs": [],
   "source": [
    "t2 = pd.read_csv('./submission/t_neo_20170908_dart_.txt',sep='#')\n",
    "t2['link_ID'] = t2['link_ID'].astype('str')"
   ]
  },
  {
   "cell_type": "code",
   "execution_count": 4,
   "metadata": {
    "collapsed": false,
    "deletable": true,
    "editable": true
   },
   "outputs": [],
   "source": [
    "t1.sort_values(by=['link_ID','date_time','time_interval'],inplace=True)\n",
    "t2.sort_values(by=['link_ID','date_time','time_interval'],inplace=True)"
   ]
  },
  {
   "cell_type": "code",
   "execution_count": 11,
   "metadata": {
    "collapsed": false,
    "deletable": true,
    "editable": true
   },
   "outputs": [
    {
     "name": "stdout",
     "output_type": "stream",
     "text": [
      "14.9337109094\n",
      "13.5898713916\n",
      "13.6047600842\n"
     ]
    }
   ],
   "source": [
    "print t1['travel_time'].mean()\n",
    "t1['hour'] = t1['time_interval'].apply(lambda x: int(x.split(',')[0][1:].split(' ')[1].split(':')[0])).astype('int8')\n",
    "print t1[t1.hour==8]['travel_time'].mean()\n",
    "t2['hour'] = t2['time_interval'].apply(lambda x: int(x.split(',')[0][1:].split(' ')[1].split(':')[0])).astype('int8')\n",
    "print t2[t2.hour==8]['travel_time'].mean()"
   ]
  },
  {
   "cell_type": "code",
   "execution_count": 5,
   "metadata": {
    "collapsed": true,
    "deletable": true,
    "editable": true
   },
   "outputs": [],
   "source": [
    "tv1 = t1.travel_time.values\n",
    "tv2 = t2.travel_time.values\n",
    "t1['travel_time'] = 0.7*tv1+0.3*tv2"
   ]
  },
  {
   "cell_type": "code",
   "execution_count": 6,
   "metadata": {
    "collapsed": true,
    "deletable": true,
    "editable": true,
    "scrolled": true
   },
   "outputs": [],
   "source": [
    "def WriteTxt(dir, x, delimiter=\" \"):\n",
    "    text_file = open(dir, \"w\")\n",
    "    nrow = np.alen(x)\n",
    "    ncol = np.alen(x[0])\n",
    "    for i in range(nrow):\n",
    "        temp = str(x[i, 0])\n",
    "        for j in range(1, ncol):\n",
    "            temp = temp + delimiter + str(x[i, j])\n",
    "        if i + 1 != nrow:\n",
    "            temp = temp + \"\\n\"\n",
    "        text_file.write(temp)\n",
    "    text_file.close()"
   ]
  },
  {
   "cell_type": "code",
   "execution_count": 7,
   "metadata": {
    "collapsed": true,
    "deletable": true,
    "editable": true
   },
   "outputs": [],
   "source": [
    "WriteTxt('./submission/ensemble_0909.txt',t1.values,'#')"
   ]
  },
  {
   "cell_type": "code",
   "execution_count": 9,
   "metadata": {
    "collapsed": false
   },
   "outputs": [],
   "source": [
    "part1=t1[0:len(t1)/2]"
   ]
  },
  {
   "cell_type": "code",
   "execution_count": 10,
   "metadata": {
    "collapsed": true
   },
   "outputs": [],
   "source": [
    "part2=t2[len(t1)/2:]"
   ]
  },
  {
   "cell_type": "code",
   "execution_count": 13,
   "metadata": {
    "collapsed": false
   },
   "outputs": [],
   "source": [
    "WriteTxt('./submission/ensemble_0909_part1.txt',part1.values,'#')\n",
    "WriteTxt('./submission/ensemble_0909_part2.txt',part2.values,'#')"
   ]
  }
 ],
 "metadata": {
  "kernelspec": {
   "display_name": "Python 2",
   "language": "python",
   "name": "python2"
  },
  "language_info": {
   "codemirror_mode": {
    "name": "ipython",
    "version": 2
   },
   "file_extension": ".py",
   "mimetype": "text/x-python",
   "name": "python",
   "nbconvert_exporter": "python",
   "pygments_lexer": "ipython2",
   "version": "2.7.6"
  }
 },
 "nbformat": 4,
 "nbformat_minor": 2
}

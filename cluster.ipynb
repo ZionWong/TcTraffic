{
 "cells": [
  {
   "cell_type": "code",
   "execution_count": 1,
   "metadata": {
    "collapsed": true,
    "deletable": true,
    "editable": true
   },
   "outputs": [],
   "source": [
    "from sklearn.cluster import KMeans\n",
    "import pandas as pd\n",
    "import numpy as np"
   ]
  },
  {
   "cell_type": "code",
   "execution_count": 2,
   "metadata": {
    "collapsed": true,
    "deletable": true,
    "editable": true
   },
   "outputs": [],
   "source": [
    "data = pd.read_csv('./data/transformed/train_data.csv',parse_dates=['date'],dtype={'link_ID':str})"
   ]
  },
  {
   "cell_type": "code",
   "execution_count": 3,
   "metadata": {
    "collapsed": true,
    "deletable": true,
    "editable": true
   },
   "outputs": [],
   "source": [
    "grp = data[data.month!=7].groupby(['link_ID','time_start_hour'])"
   ]
  },
  {
   "cell_type": "code",
   "execution_count": 4,
   "metadata": {
    "collapsed": true,
    "deletable": true,
    "editable": true
   },
   "outputs": [],
   "source": [
    "c = grp['travel_time'].agg(['mean']).reset_index()"
   ]
  },
  {
   "cell_type": "code",
   "execution_count": 5,
   "metadata": {
    "collapsed": true,
    "deletable": true,
    "editable": true
   },
   "outputs": [],
   "source": [
    "def cluster(data,c,hour):\n",
    "    c8 = c[c.time_start_hour==hour]\n",
    "    c8_data = c8.iloc[:,[0,2]].values\n",
    "    km = KMeans(n_clusters=3,n_jobs=32,max_iter=300)\n",
    "    x = c8_data[:,1].reshape([-1,1])\n",
    "    km.fit(x)\n",
    "    y = km.predict(x)\n",
    "    c8_label = pd.DataFrame({'link_ID':c8_data[:,0],'c{0}_cluster'.format(hour):y})\n",
    "    return pd.merge(data,c8_label,how='left',on=['link_ID'])"
   ]
  },
  {
   "cell_type": "code",
   "execution_count": 6,
   "metadata": {
    "collapsed": false,
    "deletable": true,
    "editable": true
   },
   "outputs": [],
   "source": [
    "for i in [8,15,18]:\n",
    "    data = cluster(data,c,i)"
   ]
  },
  {
   "cell_type": "code",
   "execution_count": 7,
   "metadata": {
    "collapsed": false,
    "deletable": true,
    "editable": true
   },
   "outputs": [],
   "source": [
    "june_missing = ['3377906282328510514', '3377906283328510514']\n",
    "link_id=data['link_ID'].unique()\n",
    "sign=[]\n",
    "for i in link_id:\n",
    "    if i in june_missing:\n",
    "        sign.append(1)\n",
    "    else:\n",
    "        sign.append(0)\n",
    "m = pd.DataFrame({'link_ID':link_id,'missing':sign})\n",
    "data = pd.merge(data,m,how='left',on=['link_ID'])"
   ]
  },
  {
   "cell_type": "code",
   "execution_count": 8,
   "metadata": {
    "collapsed": false,
    "deletable": true,
    "editable": true
   },
   "outputs": [],
   "source": [
    "data.to_csv('./data/transformed/train_data.csv',index=False)"
   ]
  }
 ],
 "metadata": {
  "kernelspec": {
   "display_name": "Python 2",
   "language": "python",
   "name": "python2"
  },
  "language_info": {
   "codemirror_mode": {
    "name": "ipython",
    "version": 2
   },
   "file_extension": ".py",
   "mimetype": "text/x-python",
   "name": "python",
   "nbconvert_exporter": "python",
   "pygments_lexer": "ipython2",
   "version": "2.7.6"
  }
 },
 "nbformat": 4,
 "nbformat_minor": 2
}

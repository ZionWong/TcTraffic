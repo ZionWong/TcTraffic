{
 "cells": [
  {
   "cell_type": "code",
   "execution_count": null,
   "metadata": {
    "collapsed": true,
    "deletable": true,
    "editable": true
   },
   "outputs": [],
   "source": [
    "from sklearn.externals import joblib\n",
    "import numpy as np\n",
    "from keras.models import Sequential,load_model\n",
    "from keras.layers import LSTM, GRU, Dense, Activation, Dropout ,regularizers\n",
    "from keras import optimizers\n",
    "from sklearn.preprocessing import  StandardScaler\n",
    "import pandas as pd"
   ]
  },
  {
   "cell_type": "code",
   "execution_count": null,
   "metadata": {
    "collapsed": true,
    "deletable": true,
    "editable": true
   },
   "outputs": [],
   "source": [
    "train_df = pd.read_csv('./data/feature/train.csv',parse_dates=['date','time_start'],dtype={'link_ID':str})\n",
    "train_df = train_df.sort_values(by=['link_ID','time_start'])\n",
    "train_df = train_df[train_df.date>=pd.to_datetime('20170302',format='%Y%m%d')]\n",
    "train_df.fillna(method='ffill',inplace=True)\n",
    "train_df.dropna(axis=0,inplace=True)\n",
    "val_data = train_df[(train_df.time_start_hour==8)&(train_df.month==5)]\n",
    "val_index = val_data.index\n",
    "test_data = train_df[(train_df.month==6)&(train_df.time_start_hour==8)]\n",
    "test_index = test_data.index\n",
    "rm_index = val_index.append(test_index)\n",
    "rm_index = train_df.index.isin(rm_index)\n",
    "train_data = train_df[~rm_index]\n",
    "train_data = train_data[train_df.time_start<pd.Timestamp('2017-05-01-00')]\n",
    "test_id = test_data.link_ID.values\n",
    "test_time = test_data.time_start.values\n",
    "col_list = train_data.drop(['link_ID','date','time_start','travel_time'],axis=1).columns.tolist()\n",
    "train_y = train_data.travel_time.values\n",
    "val_y = val_data.travel_time.values\n",
    "train_data = train_data.drop(['link_ID','date','time_start','travel_time'],axis=1).values\n",
    "val_data = val_data.drop(['link_ID','date','time_start','travel_time'],axis=1).values\n",
    "dtest = test_data.drop(['link_ID','date','time_start','travel_time'],axis=1).values"
   ]
  },
  {
   "cell_type": "code",
   "execution_count": null,
   "metadata": {
    "collapsed": true,
    "deletable": true,
    "editable": true
   },
   "outputs": [],
   "source": [
    "for i in range(train_data.shape[1]):\n",
    "    sc = StandardScaler()\n",
    "    sc.fit(train_data[:,i])\n",
    "    train_data[:,i] = sc.transform(train_data[:,i].flatten())\n",
    "    #test_data[:,i] = sc.transform(test_data[:,i])\n",
    "    val_data[:,i] = sc.transform(val_data[:,i].flatten())"
   ]
  },
  {
   "cell_type": "code",
   "execution_count": null,
   "metadata": {
    "collapsed": true,
    "deletable": true,
    "editable": true
   },
   "outputs": [],
   "source": [
    "def build_model(timesteps):\n",
    "    model = Sequential()\n",
    "        \n",
    "    model.add(Dense(input_dim=timesteps,activation='relu',\n",
    "                    output_dim=64))\n",
    "    model.add(Dropout(0.3))\n",
    "    \n",
    "    model.add(Dense(128,activation='relu'))\n",
    "    model.add(Dropout(0.3))\n",
    "    \n",
    "    model.add(Dense(192,activation='relu'))\n",
    "    model.add(Dropout(0.4))\n",
    "    \n",
    "\n",
    "    \n",
    "    model.add(Dense(output_dim=1))\n",
    "    model.add(Activation(\"relu\"))\n",
    "    sgd = optimizers.Adam(lr=0.001, beta_1=0.9, beta_2=0.999, epsilon=1e-08)\n",
    "    model.compile(loss='mean_absolute_percentage_error',\n",
    "                  optimizer=sgd,\n",
    "                  metrics=['mape'])\n",
    "    return model"
   ]
  },
  {
   "cell_type": "code",
   "execution_count": null,
   "metadata": {
    "collapsed": true,
    "deletable": true,
    "editable": true
   },
   "outputs": [],
   "source": [
    "model = build_model(train_data.shape[1])"
   ]
  },
  {
   "cell_type": "code",
   "execution_count": null,
   "metadata": {
    "collapsed": true,
    "deletable": true,
    "editable": true
   },
   "outputs": [],
   "source": [
    "model.fit(batch_size=512,epochs=10,shuffle=True,x=train_data,y=train_y,validation_data=(val_data,val_y),verbose=1)"
   ]
  },
  {
   "cell_type": "code",
   "execution_count": null,
   "metadata": {
    "collapsed": true,
    "deletable": true,
    "editable": true
   },
   "outputs": [],
   "source": [
    "def mape(pred,actual):\n",
    "    return np.fabs(pred/actual-1).mean()"
   ]
  },
  {
   "cell_type": "code",
   "execution_count": null,
   "metadata": {
    "collapsed": true,
    "deletable": true,
    "editable": true
   },
   "outputs": [],
   "source": [
    "pred = model.predict(val_data)"
   ]
  },
  {
   "cell_type": "code",
   "execution_count": null,
   "metadata": {
    "collapsed": true,
    "deletable": true,
    "editable": true
   },
   "outputs": [],
   "source": [
    "pred = pred.flatten()"
   ]
  },
  {
   "cell_type": "code",
   "execution_count": null,
   "metadata": {
    "collapsed": true,
    "deletable": true,
    "editable": true
   },
   "outputs": [],
   "source": [
    "mape(pred,val_y)"
   ]
  }
 ],
 "metadata": {
  "kernelspec": {
   "display_name": "Python 2",
   "language": "python",
   "name": "python2"
  },
  "language_info": {
   "codemirror_mode": {
    "name": "ipython",
    "version": 2
   },
   "file_extension": ".py",
   "mimetype": "text/x-python",
   "name": "python",
   "nbconvert_exporter": "python",
   "pygments_lexer": "ipython2",
   "version": "2.7.6"
  }
 },
 "nbformat": 4,
 "nbformat_minor": 2
}
